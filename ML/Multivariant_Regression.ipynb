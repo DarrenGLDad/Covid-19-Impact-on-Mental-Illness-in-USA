{
 "cells": [
  {
   "cell_type": "code",
   "execution_count": 15,
   "metadata": {},
   "outputs": [],
   "source": [
    "# loading essential libraries first\n",
    "import pandas as pd\n",
    "from sklearn import linear_model\n",
    "import matplotlib.pyplot as plt\n",
    "from sklearn.linear_model import LinearRegression\n",
    "from sklearn.metrics import mean_squared_error, r2_score, mean_absolute_error\n",
    "import seaborn as sns"
   ]
  },
  {
   "cell_type": "code",
   "execution_count": 16,
   "metadata": {},
   "outputs": [],
   "source": [
    "df = pd.read_csv(\"Covid_AMI_Data_Merged.csv\")"
   ]
  },
  {
   "cell_type": "code",
   "execution_count": 17,
   "metadata": {},
   "outputs": [
    {
     "data": {
      "text/html": [
       "<div>\n",
       "<style scoped>\n",
       "    .dataframe tbody tr th:only-of-type {\n",
       "        vertical-align: middle;\n",
       "    }\n",
       "\n",
       "    .dataframe tbody tr th {\n",
       "        vertical-align: top;\n",
       "    }\n",
       "\n",
       "    .dataframe thead th {\n",
       "        text-align: right;\n",
       "    }\n",
       "</style>\n",
       "<table border=\"1\" class=\"dataframe\">\n",
       "  <thead>\n",
       "    <tr style=\"text-align: right;\">\n",
       "      <th></th>\n",
       "      <th>Unnamed: 0</th>\n",
       "      <th>Year</th>\n",
       "      <th>State</th>\n",
       "      <th>FIPS</th>\n",
       "      <th>18_or_Older_AMI_Total</th>\n",
       "      <th>Tot_Cases</th>\n",
       "      <th>Toth_Deaths</th>\n",
       "    </tr>\n",
       "  </thead>\n",
       "  <tbody>\n",
       "    <tr>\n",
       "      <th>0</th>\n",
       "      <td>0</td>\n",
       "      <td>2017</td>\n",
       "      <td>Alabama</td>\n",
       "      <td>1</td>\n",
       "      <td>712000</td>\n",
       "      <td>0</td>\n",
       "      <td>0</td>\n",
       "    </tr>\n",
       "    <tr>\n",
       "      <th>1</th>\n",
       "      <td>1</td>\n",
       "      <td>2017</td>\n",
       "      <td>Alaska</td>\n",
       "      <td>2</td>\n",
       "      <td>94000</td>\n",
       "      <td>0</td>\n",
       "      <td>0</td>\n",
       "    </tr>\n",
       "    <tr>\n",
       "      <th>2</th>\n",
       "      <td>2</td>\n",
       "      <td>2017</td>\n",
       "      <td>Arizona</td>\n",
       "      <td>4</td>\n",
       "      <td>920000</td>\n",
       "      <td>0</td>\n",
       "      <td>0</td>\n",
       "    </tr>\n",
       "    <tr>\n",
       "      <th>3</th>\n",
       "      <td>3</td>\n",
       "      <td>2017</td>\n",
       "      <td>Arkansas</td>\n",
       "      <td>5</td>\n",
       "      <td>441000</td>\n",
       "      <td>0</td>\n",
       "      <td>0</td>\n",
       "    </tr>\n",
       "    <tr>\n",
       "      <th>4</th>\n",
       "      <td>4</td>\n",
       "      <td>2017</td>\n",
       "      <td>California</td>\n",
       "      <td>6</td>\n",
       "      <td>5241000</td>\n",
       "      <td>0</td>\n",
       "      <td>0</td>\n",
       "    </tr>\n",
       "  </tbody>\n",
       "</table>\n",
       "</div>"
      ],
      "text/plain": [
       "   Unnamed: 0  Year       State  FIPS  18_or_Older_AMI_Total  Tot_Cases  \\\n",
       "0           0  2017     Alabama     1                 712000          0   \n",
       "1           1  2017      Alaska     2                  94000          0   \n",
       "2           2  2017     Arizona     4                 920000          0   \n",
       "3           3  2017    Arkansas     5                 441000          0   \n",
       "4           4  2017  California     6                5241000          0   \n",
       "\n",
       "   Toth_Deaths  \n",
       "0            0  \n",
       "1            0  \n",
       "2            0  \n",
       "3            0  \n",
       "4            0  "
      ]
     },
     "execution_count": 17,
     "metadata": {},
     "output_type": "execute_result"
    }
   ],
   "source": [
    "ml_alg = df.copy()\n",
    "ml_alg.head()"
   ]
  },
  {
   "cell_type": "code",
   "execution_count": 18,
   "metadata": {},
   "outputs": [
    {
     "data": {
      "text/plain": [
       "Year                      int64\n",
       "State                    object\n",
       "FIPS                      int64\n",
       "18_or_Older_AMI_Total     int64\n",
       "Tot_Cases                 int64\n",
       "Toth_Deaths               int64\n",
       "dtype: object"
      ]
     },
     "execution_count": 18,
     "metadata": {},
     "output_type": "execute_result"
    }
   ],
   "source": [
    "ml_alg.drop(['Unnamed: 0'], axis = 1, inplace = True)\n",
    "ml_alg.dtypes"
   ]
  },
  {
   "cell_type": "code",
   "execution_count": 54,
   "metadata": {},
   "outputs": [
    {
     "data": {
      "text/html": [
       "<div>\n",
       "<style scoped>\n",
       "    .dataframe tbody tr th:only-of-type {\n",
       "        vertical-align: middle;\n",
       "    }\n",
       "\n",
       "    .dataframe tbody tr th {\n",
       "        vertical-align: top;\n",
       "    }\n",
       "\n",
       "    .dataframe thead th {\n",
       "        text-align: right;\n",
       "    }\n",
       "</style>\n",
       "<table border=\"1\" class=\"dataframe\">\n",
       "  <thead>\n",
       "    <tr style=\"text-align: right;\">\n",
       "      <th></th>\n",
       "      <th>Year</th>\n",
       "      <th>FIPS</th>\n",
       "      <th>18_or_Older_AMI_Total</th>\n",
       "      <th>Tot_Cases</th>\n",
       "      <th>Toth_Deaths</th>\n",
       "    </tr>\n",
       "  </thead>\n",
       "  <tbody>\n",
       "    <tr>\n",
       "      <th>Year</th>\n",
       "      <td>1.000000e+00</td>\n",
       "      <td>-8.065457e-14</td>\n",
       "      <td>0.044158</td>\n",
       "      <td>0.522731</td>\n",
       "      <td>0.520657</td>\n",
       "    </tr>\n",
       "    <tr>\n",
       "      <th>FIPS</th>\n",
       "      <td>-8.065457e-14</td>\n",
       "      <td>1.000000e+00</td>\n",
       "      <td>-0.042495</td>\n",
       "      <td>-0.047480</td>\n",
       "      <td>-0.054190</td>\n",
       "    </tr>\n",
       "    <tr>\n",
       "      <th>18_or_Older_AMI_Total</th>\n",
       "      <td>4.415795e-02</td>\n",
       "      <td>-4.249504e-02</td>\n",
       "      <td>1.000000</td>\n",
       "      <td>0.493761</td>\n",
       "      <td>0.480366</td>\n",
       "    </tr>\n",
       "    <tr>\n",
       "      <th>Tot_Cases</th>\n",
       "      <td>5.227306e-01</td>\n",
       "      <td>-4.747970e-02</td>\n",
       "      <td>0.493761</td>\n",
       "      <td>1.000000</td>\n",
       "      <td>0.984044</td>\n",
       "    </tr>\n",
       "    <tr>\n",
       "      <th>Toth_Deaths</th>\n",
       "      <td>5.206568e-01</td>\n",
       "      <td>-5.418987e-02</td>\n",
       "      <td>0.480366</td>\n",
       "      <td>0.984044</td>\n",
       "      <td>1.000000</td>\n",
       "    </tr>\n",
       "  </tbody>\n",
       "</table>\n",
       "</div>"
      ],
      "text/plain": [
       "                               Year          FIPS  18_or_Older_AMI_Total  \\\n",
       "Year                   1.000000e+00 -8.065457e-14               0.044158   \n",
       "FIPS                  -8.065457e-14  1.000000e+00              -0.042495   \n",
       "18_or_Older_AMI_Total  4.415795e-02 -4.249504e-02               1.000000   \n",
       "Tot_Cases              5.227306e-01 -4.747970e-02               0.493761   \n",
       "Toth_Deaths            5.206568e-01 -5.418987e-02               0.480366   \n",
       "\n",
       "                       Tot_Cases  Toth_Deaths  \n",
       "Year                    0.522731     0.520657  \n",
       "FIPS                   -0.047480    -0.054190  \n",
       "18_or_Older_AMI_Total   0.493761     0.480366  \n",
       "Tot_Cases               1.000000     0.984044  \n",
       "Toth_Deaths             0.984044     1.000000  "
      ]
     },
     "execution_count": 54,
     "metadata": {},
     "output_type": "execute_result"
    }
   ],
   "source": [
    "corr = ml_alg.corr()\n",
    "corr"
   ]
  },
  {
   "cell_type": "code",
   "execution_count": 55,
   "id": "c1655f37",
   "metadata": {},
   "outputs": [
    {
     "data": {
      "text/plain": [
       "<AxesSubplot:>"
      ]
     },
     "execution_count": 55,
     "metadata": {},
     "output_type": "execute_result"
    },
    {
     "data": {
      "image/png": "[encoded data removed]",
      "text/plain": [
       "<Figure size 432x288 with 2 Axes>"
      ]
     },
     "metadata": {
      "needs_background": "light"
     },
     "output_type": "display_data"
    }
   ],
   "source": [
    "sns.heatmap(corr)"
   ]
  },
  {
   "cell_type": "code",
   "execution_count": 61,
   "metadata": {},
   "outputs": [
    {
     "data": {
      "text/html": [
       "<div>\n",
       "<style scoped>\n",
       "    .dataframe tbody tr th:only-of-type {\n",
       "        vertical-align: middle;\n",
       "    }\n",
       "\n",
       "    .dataframe tbody tr th {\n",
       "        vertical-align: top;\n",
       "    }\n",
       "\n",
       "    .dataframe thead th {\n",
       "        text-align: right;\n",
       "    }\n",
       "</style>\n",
       "<table border=\"1\" class=\"dataframe\">\n",
       "  <thead>\n",
       "    <tr style=\"text-align: right;\">\n",
       "      <th></th>\n",
       "      <th>18_or_Older_AMI_Total</th>\n",
       "      <th>Tot_Cases</th>\n",
       "    </tr>\n",
       "  </thead>\n",
       "  <tbody>\n",
       "    <tr>\n",
       "      <th>18_or_Older_AMI_Total</th>\n",
       "      <td>1.000000</td>\n",
       "      <td>0.493761</td>\n",
       "    </tr>\n",
       "    <tr>\n",
       "      <th>Tot_Cases</th>\n",
       "      <td>0.493761</td>\n",
       "      <td>1.000000</td>\n",
       "    </tr>\n",
       "  </tbody>\n",
       "</table>\n",
       "</div>"
      ],
      "text/plain": [
       "                       18_or_Older_AMI_Total  Tot_Cases\n",
       "18_or_Older_AMI_Total               1.000000   0.493761\n",
       "Tot_Cases                           0.493761   1.000000"
      ]
     },
     "execution_count": 61,
     "metadata": {},
     "output_type": "execute_result"
    }
   ],
   "source": [
    "covid_ami = ml_alg[['18_or_Older_AMI_Total', 'Tot_Cases']].copy()\n",
    "covid_ami.corr()"
   ]
  },
  {
   "cell_type": "code",
   "execution_count": 30,
   "metadata": {},
   "outputs": [],
   "source": [
    "# select features \n",
    "X = ml_alg.drop(['18_or_Older_AMI_Total', 'State'], axis = 1)\n",
    "y = ml_alg[[\"18_or_Older_AMI_Total\"]]"
   ]
  },
  {
   "cell_type": "code",
   "execution_count": 62,
   "metadata": {},
   "outputs": [
    {
     "data": {
      "text/plain": [
       "(255, 4)"
      ]
     },
     "execution_count": 62,
     "metadata": {},
     "output_type": "execute_result"
    }
   ],
   "source": [
    "X.shape"
   ]
  },
  {
   "cell_type": "code",
   "execution_count": 63,
   "metadata": {},
   "outputs": [
    {
     "data": {
      "text/plain": [
       "(255, 1)"
      ]
     },
     "execution_count": 63,
     "metadata": {},
     "output_type": "execute_result"
    }
   ],
   "source": [
    "y.shape"
   ]
  },
  {
   "cell_type": "code",
   "execution_count": 64,
   "metadata": {},
   "outputs": [],
   "source": [
    "X_train = X[:175].values\n",
    "X_test = X[175:].values\n",
    "y_train = y[:175].values\n",
    "y_test = y[175:].values"
   ]
  },
  {
   "cell_type": "code",
   "execution_count": 65,
   "metadata": {},
   "outputs": [
    {
     "data": {
      "text/plain": [
       "array([[   2020,      26,  589728,   13816],\n",
       "       [   2020,      27,  415302,    5382],\n",
       "       [   2020,      28,  221928,    5646],\n",
       "       [   2020,      29,  449569,    6856],\n",
       "       [   2020,      30,   81555,     961],\n",
       "       [   2020,      31,  167233,    1651],\n",
       "       [   2020,      32,  224731,    3125],\n",
       "       [   2020,      33,   44028,     758],\n",
       "       [   2020,      34,  527784,   19042],\n",
       "       [   2020,      35,  142864,    2385],\n",
       "       [   2020,      36,  548154,   12566],\n",
       "       [   2020,      37,  547683,    7925],\n",
       "       [   2020,      38,   92770,    1309],\n",
       "       [   2020,      39,  700380,    8962],\n",
       "       [   2020,      40,  325524,    4564],\n",
       "       [   2020,      41,  113909,    1477],\n",
       "       [   2020,      42,  648569,   15978],\n",
       "       [   2020,      44,   85399,    1778],\n",
       "       [   2020,      45,  317430,    5306],\n",
       "       [   2020,      46,   99164,    1488],\n",
       "       [   2020,      47,  576157,    6810],\n",
       "       [   2020,      48, 1756172,   31282],\n",
       "       [   2020,      49,  276612,    1269],\n",
       "       [   2020,      50,    6970,     145],\n",
       "       [   2020,      51,  354767,    5081],\n",
       "       [   2020,      53,  244803,    3461],\n",
       "       [   2020,      54,   85334,    1338],\n",
       "       [   2020,      55,  520438,    5242],\n",
       "       [   2020,      56,   44409,     438],\n",
       "       [   2021,       1,  904526,   16747],\n",
       "       [   2021,       2,  151583,     947],\n",
       "       [   2021,       4, 1381488,   24229],\n",
       "       [   2021,       5,  566486,    9148],\n",
       "       [   2021,       6, 5477529,   75847],\n",
       "       [   2021,       8,  955270,   10271],\n",
       "       [   2021,       9,  510188,    9160],\n",
       "       [   2021,      10,  178886,    2400],\n",
       "       [   2021,      11,   94286,    1211],\n",
       "       [   2021,      12, 4249748,   63184],\n",
       "       [   2021,      13, 1839879,   31443],\n",
       "       [   2021,      15,  109576,    1079],\n",
       "       [   2021,      16,  319382,    4162],\n",
       "       [   2021,      17, 2181009,   31017],\n",
       "       [   2021,      18, 1246854,   19037],\n",
       "       [   2021,      19,  582348,    7858],\n",
       "       [   2021,      20,  519544,    7001],\n",
       "       [   2021,      21,  880163,   13063],\n",
       "       [   2021,      22,  828695,   14986],\n",
       "       [   2021,      23,  154173,    1531],\n",
       "       [   2021,      24,  720888,   11875],\n",
       "       [   2021,      25, 1140614,   20273],\n",
       "       [   2021,      26, 1710271,   29019],\n",
       "       [   2021,      27, 1022212,   10656],\n",
       "       [   2021,      28,  543737,   10450],\n",
       "       [   2021,      29, 1006913,   16074],\n",
       "       [   2021,      30,  197724,    2906],\n",
       "       [   2021,      31,  342939,    3341],\n",
       "       [   2021,      32,  501181,    8420],\n",
       "       [   2021,      33,  198667,    1961],\n",
       "       [   2021,      34, 1564253,   29037],\n",
       "       [   2021,      35,  350043,    5855],\n",
       "       [   2021,      36, 1924606,   23611],\n",
       "       [   2021,      37, 1695105,   19828],\n",
       "       [   2021,      38,  174626,    2012],\n",
       "       [   2021,      39, 2016095,   29447],\n",
       "       [   2021,      40,  708938,   11555],\n",
       "       [   2021,      41,  421263,    5655],\n",
       "       [   2021,      42, 2036424,   36705],\n",
       "       [   2021,      44,  222729,    3074],\n",
       "       [   2021,      45,  978154,   14675],\n",
       "       [   2021,      46,  179204,    2486],\n",
       "       [   2021,      47, 1425369,   20880],\n",
       "       [   2021,      48, 4576799,   74491],\n",
       "       [   2021,      49,  636992,    3787],\n",
       "       [   2021,      50,   60788,     453],\n",
       "       [   2021,      51, 1133238,   15601],\n",
       "       [   2021,      53,  859170,    9853],\n",
       "       [   2021,      54,  328162,    5336],\n",
       "       [   2021,      55, 1120669,   11173],\n",
       "       [   2021,      56,  115638,    1526]])"
      ]
     },
     "execution_count": 65,
     "metadata": {},
     "output_type": "execute_result"
    }
   ],
   "source": [
    "X_test"
   ]
  },
  {
   "cell_type": "code",
   "execution_count": 66,
   "metadata": {},
   "outputs": [
    {
     "data": {
      "text/plain": [
       "array([[1469000],\n",
       "       [ 819000],\n",
       "       [ 431000],\n",
       "       [ 993000],\n",
       "       [ 163000],\n",
       "       [ 257000],\n",
       "       [ 474000],\n",
       "       [ 221000],\n",
       "       [1112000],\n",
       "       [ 300000],\n",
       "       [2802000],\n",
       "       [1469000],\n",
       "       [ 108000],\n",
       "       [1906000],\n",
       "       [ 592000],\n",
       "       [ 731000],\n",
       "       [1814000],\n",
       "       [ 178000],\n",
       "       [ 706000],\n",
       "       [ 112000],\n",
       "       [ 937000],\n",
       "       [3347000],\n",
       "       [ 550000],\n",
       "       [ 104000],\n",
       "       [1115000],\n",
       "       [1269000],\n",
       "       [ 337000],\n",
       "       [ 859000],\n",
       "       [  88000],\n",
       "       [ 794000],\n",
       "       [ 113000],\n",
       "       [1099000],\n",
       "       [ 460000],\n",
       "       [5864000],\n",
       "       [1014000],\n",
       "       [ 531000],\n",
       "       [ 157000],\n",
       "       [ 129000],\n",
       "       [2903000],\n",
       "       [1406000],\n",
       "       [ 187000],\n",
       "       [ 311000],\n",
       "       [1858000],\n",
       "       [1129000],\n",
       "       [ 473000],\n",
       "       [ 442000],\n",
       "       [ 762000],\n",
       "       [ 734000],\n",
       "       [ 238000],\n",
       "       [ 810000],\n",
       "       [1157000],\n",
       "       [1571000],\n",
       "       [ 876000],\n",
       "       [ 446000],\n",
       "       [1056000],\n",
       "       [ 171000],\n",
       "       [ 290000],\n",
       "       [ 512000],\n",
       "       [ 243000],\n",
       "       [1122000],\n",
       "       [ 338000],\n",
       "       [2972000],\n",
       "       [1532000],\n",
       "       [ 116000],\n",
       "       [2112000],\n",
       "       [ 657000],\n",
       "       [ 783000],\n",
       "       [1963000],\n",
       "       [ 187000],\n",
       "       [ 760000],\n",
       "       [ 118000],\n",
       "       [1006000],\n",
       "       [3602000],\n",
       "       [ 599000],\n",
       "       [ 112000],\n",
       "       [1199000],\n",
       "       [1360000],\n",
       "       [ 347000],\n",
       "       [ 904000],\n",
       "       [  98000]])"
      ]
     },
     "execution_count": 66,
     "metadata": {},
     "output_type": "execute_result"
    }
   ],
   "source": [
    "y_test"
   ]
  },
  {
   "cell_type": "code",
   "execution_count": 67,
   "metadata": {},
   "outputs": [],
   "source": [
    "# create a Linear Regression model object\n",
    "regression_model_df2 = LinearRegression()"
   ]
  },
  {
   "cell_type": "code",
   "execution_count": 68,
   "metadata": {},
   "outputs": [
    {
     "data": {
      "text/plain": [
       "array([[   2020,      26,  589728,   13816],\n",
       "       [   2020,      27,  415302,    5382],\n",
       "       [   2020,      28,  221928,    5646],\n",
       "       [   2020,      29,  449569,    6856],\n",
       "       [   2020,      30,   81555,     961],\n",
       "       [   2020,      31,  167233,    1651],\n",
       "       [   2020,      32,  224731,    3125],\n",
       "       [   2020,      33,   44028,     758],\n",
       "       [   2020,      34,  527784,   19042],\n",
       "       [   2020,      35,  142864,    2385],\n",
       "       [   2020,      36,  548154,   12566],\n",
       "       [   2020,      37,  547683,    7925],\n",
       "       [   2020,      38,   92770,    1309],\n",
       "       [   2020,      39,  700380,    8962],\n",
       "       [   2020,      40,  325524,    4564],\n",
       "       [   2020,      41,  113909,    1477],\n",
       "       [   2020,      42,  648569,   15978],\n",
       "       [   2020,      44,   85399,    1778],\n",
       "       [   2020,      45,  317430,    5306],\n",
       "       [   2020,      46,   99164,    1488],\n",
       "       [   2020,      47,  576157,    6810],\n",
       "       [   2020,      48, 1756172,   31282],\n",
       "       [   2020,      49,  276612,    1269],\n",
       "       [   2020,      50,    6970,     145],\n",
       "       [   2020,      51,  354767,    5081],\n",
       "       [   2020,      53,  244803,    3461],\n",
       "       [   2020,      54,   85334,    1338],\n",
       "       [   2020,      55,  520438,    5242],\n",
       "       [   2020,      56,   44409,     438],\n",
       "       [   2021,       1,  904526,   16747],\n",
       "       [   2021,       2,  151583,     947],\n",
       "       [   2021,       4, 1381488,   24229],\n",
       "       [   2021,       5,  566486,    9148],\n",
       "       [   2021,       6, 5477529,   75847],\n",
       "       [   2021,       8,  955270,   10271],\n",
       "       [   2021,       9,  510188,    9160],\n",
       "       [   2021,      10,  178886,    2400],\n",
       "       [   2021,      11,   94286,    1211],\n",
       "       [   2021,      12, 4249748,   63184],\n",
       "       [   2021,      13, 1839879,   31443],\n",
       "       [   2021,      15,  109576,    1079],\n",
       "       [   2021,      16,  319382,    4162],\n",
       "       [   2021,      17, 2181009,   31017],\n",
       "       [   2021,      18, 1246854,   19037],\n",
       "       [   2021,      19,  582348,    7858],\n",
       "       [   2021,      20,  519544,    7001],\n",
       "       [   2021,      21,  880163,   13063],\n",
       "       [   2021,      22,  828695,   14986],\n",
       "       [   2021,      23,  154173,    1531],\n",
       "       [   2021,      24,  720888,   11875],\n",
       "       [   2021,      25, 1140614,   20273],\n",
       "       [   2021,      26, 1710271,   29019],\n",
       "       [   2021,      27, 1022212,   10656],\n",
       "       [   2021,      28,  543737,   10450],\n",
       "       [   2021,      29, 1006913,   16074],\n",
       "       [   2021,      30,  197724,    2906],\n",
       "       [   2021,      31,  342939,    3341],\n",
       "       [   2021,      32,  501181,    8420],\n",
       "       [   2021,      33,  198667,    1961],\n",
       "       [   2021,      34, 1564253,   29037],\n",
       "       [   2021,      35,  350043,    5855],\n",
       "       [   2021,      36, 1924606,   23611],\n",
       "       [   2021,      37, 1695105,   19828],\n",
       "       [   2021,      38,  174626,    2012],\n",
       "       [   2021,      39, 2016095,   29447],\n",
       "       [   2021,      40,  708938,   11555],\n",
       "       [   2021,      41,  421263,    5655],\n",
       "       [   2021,      42, 2036424,   36705],\n",
       "       [   2021,      44,  222729,    3074],\n",
       "       [   2021,      45,  978154,   14675],\n",
       "       [   2021,      46,  179204,    2486],\n",
       "       [   2021,      47, 1425369,   20880],\n",
       "       [   2021,      48, 4576799,   74491],\n",
       "       [   2021,      49,  636992,    3787],\n",
       "       [   2021,      50,   60788,     453],\n",
       "       [   2021,      51, 1133238,   15601],\n",
       "       [   2021,      53,  859170,    9853],\n",
       "       [   2021,      54,  328162,    5336],\n",
       "       [   2021,      55, 1120669,   11173],\n",
       "       [   2021,      56,  115638,    1526]])"
      ]
     },
     "execution_count": 68,
     "metadata": {},
     "output_type": "execute_result"
    }
   ],
   "source": [
    "X_test"
   ]
  },
  {
   "cell_type": "code",
   "execution_count": 69,
   "metadata": {},
   "outputs": [
    {
     "data": {
      "text/plain": [
       "LinearRegression()"
      ]
     },
     "execution_count": 69,
     "metadata": {},
     "output_type": "execute_result"
    }
   ],
   "source": [
    "# pass through the X_train & y_train data set\n",
    "regression_model_df2.fit(X_train, y_train)"
   ]
  },
  {
   "cell_type": "code",
   "execution_count": 70,
   "metadata": {},
   "outputs": [
    {
     "data": {
      "text/plain": [
       "-106159.47223192267"
      ]
     },
     "execution_count": 70,
     "metadata": {},
     "output_type": "execute_result"
    }
   ],
   "source": [
    "# Grab the coefficient of our model and the intercept\n",
    "intercept = regression_model_df2.intercept_[0]\n",
    "coefficent = regression_model_df2.coef_[0][0]\n",
    "intercept\n",
    "coefficent"
   ]
  },
  {
   "cell_type": "code",
   "execution_count": 71,
   "metadata": {},
   "outputs": [
    {
     "name": "stdout",
     "output_type": "stream",
     "text": [
      "The Coefficient for Year is -1.1e+05\n",
      "The Coefficient for FIPS is 1.7e+03\n",
      "The Coefficient for Tot_Cases is 3.1\n",
      "The Coefficient for Toth_Deaths is -9.3e+01\n"
     ]
    }
   ],
   "source": [
    "# loop through the dictionary and print the data\n",
    "for coef in zip(X.columns, regression_model_df2.coef_[0]):\n",
    "    print(\"The Coefficient for {} is {:.2}\".format(coef[0],coef[1]))"
   ]
  },
  {
   "cell_type": "code",
   "execution_count": 72,
   "metadata": {},
   "outputs": [
    {
     "data": {
      "text/plain": [
       "array([[1158960.13813573],\n",
       "       [1400106.94094646],\n",
       "       [ 775498.40942949],\n",
       "       [1373428.42889798],\n",
       "       [ 776584.06009257]])"
      ]
     },
     "execution_count": 72,
     "metadata": {},
     "output_type": "execute_result"
    }
   ],
   "source": [
    "# Get multiple predictions\n",
    "y_predict = regression_model_df2.predict(X_test)\n",
    "\n",
    "# Show the first 5 predictions\n",
    "y_predict[:5]"
   ]
  },
  {
   "cell_type": "code",
   "execution_count": 73,
   "metadata": {},
   "outputs": [
    {
     "data": {
      "text/plain": [
       "0.15978263773653623"
      ]
     },
     "execution_count": 73,
     "metadata": {},
     "output_type": "execute_result"
    }
   ],
   "source": [
    "regression_model_df2.score(X_train, y_train)"
   ]
  },
  {
   "cell_type": "code",
   "execution_count": 74,
   "metadata": {},
   "outputs": [
    {
     "data": {
      "text/plain": [
       "-1.0502311301828575"
      ]
     },
     "execution_count": 74,
     "metadata": {},
     "output_type": "execute_result"
    }
   ],
   "source": [
    "\n",
    "r2_score_df2 = r2_score(y_test, y_predict)\n",
    "r2_score_df2"
   ]
  },
  {
   "cell_type": "markdown",
   "metadata": {},
   "source": [
    "## Multiple Linear Regression"
   ]
  },
  {
   "cell_type": "code",
   "execution_count": 89,
   "metadata": {},
   "outputs": [],
   "source": [
    "from sklearn.model_selection import train_test_split\n",
    "\n",
    "X_train, X_test, y_train, y_test = train_test_split(X, \n",
    "                                                    y, \n",
    "                                                    random_state=1)"
   ]
  },
  {
   "cell_type": "code",
   "execution_count": 90,
   "metadata": {},
   "outputs": [],
   "source": [
    "model = LinearRegression()"
   ]
  },
  {
   "cell_type": "code",
   "execution_count": 91,
   "metadata": {},
   "outputs": [
    {
     "name": "stdout",
     "output_type": "stream",
     "text": [
      "Training Score: 0.3246528353576428\n",
      "Testing Score: 0.24583369740837246\n"
     ]
    }
   ],
   "source": [
    "# Fit the model to the training data, and calculate the scores for the training and testing data.\n",
    "model.fit(X_train, y_train)\n",
    "# YOUR CODE HERE\n",
    "training_score = model.score(X_train, y_train)\n",
    "testing_score = model.score(X_test, y_test)\n",
    "print(f\"Training Score: {training_score}\")\n",
    "print(f\"Testing Score: {testing_score}\")"
   ]
  },
  {
   "cell_type": "code",
   "execution_count": 92,
   "metadata": {},
   "outputs": [
    {
     "data": {
      "text/plain": [
       "<matplotlib.collections.LineCollection at 0x7fe3cd7c8550>"
      ]
     },
     "execution_count": 92,
     "metadata": {},
     "output_type": "execute_result"
    },
    {
     "data": {
      "image/png": "[encoded data removed]",
      "text/plain": [
       "<Figure size 432x288 with 1 Axes>"
      ]
     },
     "metadata": {
      "needs_background": "light"
     },
     "output_type": "display_data"
    }
   ],
   "source": [
    "# Plot the residuals for the training and testing data.\n",
    "\n",
    "# YOUR CODE HERE\n",
    "plt.scatter(model.predict(X_train), model.predict(X_train) - y_train, c = \"b\")\n",
    "plt.scatter(model.predict(X_test), model.predict(X_test) - y_test, c = \"orange\")\n",
    "plt.hlines(y = 0, xmin = y.min(), xmax = y.max())"
   ]
  }
 ],
 "metadata": {
  "kernelspec": {
   "display_name": "Python 3.7.13 ('mlenv')",
   "language": "python",
   "name": "python3"
  },
  "language_info": {
   "codemirror_mode": {
    "name": "ipython",
    "version": 3
   },
   "file_extension": ".py",
   "mimetype": "text/x-python",
   "name": "python",
   "nbconvert_exporter": "python",
   "pygments_lexer": "ipython3",
   "version": "3.7.13"
  },
  "orig_nbformat": 4,
  "vscode": {
   "interpreter": {
    "hash": "5eab8741c0e1056343e037caa041acb84f8b4a57d74e67a9833ecd4c5038b612"
   }
  }
 },
 "nbformat": 4,
 "nbformat_minor": 2
}
